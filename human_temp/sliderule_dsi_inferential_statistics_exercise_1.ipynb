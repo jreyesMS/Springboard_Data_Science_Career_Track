{
 "cells": [
  {
   "cell_type": "markdown",
   "metadata": {},
   "source": [
    "# What is the True Normal Human Body Temperature? \n",
    "\n",
    "#### Background\n",
    "\n",
    "The mean normal body temperature was held to be 37$^{\\circ}$C or 98.6$^{\\circ}$F for more than 120 years since it was first conceptualized and reported by Carl Wunderlich in a famous 1868 book. But, is this value statistically correct?"
   ]
  },
  {
   "cell_type": "markdown",
   "metadata": {},
   "source": [
    "<div class=\"span5 alert alert-info\">\n",
    "<h3>Exercises</h3>\n",
    "\n",
    "<p>In this exercise, you will analyze a dataset of human body temperatures and employ the concepts of hypothesis testing, confidence intervals, and statistical significance.</p>\n",
    "\n",
    "<p>Answer the following questions <b>in this notebook below and submit to your Github account</b>.</p> \n",
    "\n",
    "<ol>\n",
    "<li>  Is the distribution of body temperatures normal? \n",
    "    <ul>\n",
    "    <li> Although this is not a requirement for CLT to hold (read CLT carefully), it gives us some peace of mind that the population may also be normally distributed if we assume that this sample is representative of the population.\n",
    "    </ul>\n",
    "<li>  Is the sample size large? Are the observations independent?\n",
    "    <ul>\n",
    "    <li> Remember that this is a condition for the CLT, and hence the statistical tests we are using, to apply.\n",
    "    </ul>\n",
    "<li>  Is the true population mean really 98.6 degrees F?\n",
    "    <ul>\n",
    "    <li> Would you use a one-sample or two-sample test? Why?\n",
    "    <li> In this situation, is it appropriate to use the $t$ or $z$ statistic? \n",
    "    <li> Now try using the other test. How is the result be different? Why?\n",
    "    </ul>\n",
    "<li>  At what temperature should we consider someone's temperature to be \"abnormal\"?\n",
    "    <ul>\n",
    "    <li> Start by computing the margin of error and confidence interval.\n",
    "    </ul>\n",
    "<li>  Is there a significant difference between males and females in normal temperature?\n",
    "    <ul>\n",
    "    <li> What test did you use and why?\n",
    "    <li> Write a story with your conclusion in the context of the original problem.\n",
    "    </ul>\n",
    "</ol>\n",
    "\n",
    "You can include written notes in notebook cells using Markdown: \n",
    "   - In the control panel at the top, choose Cell > Cell Type > Markdown\n",
    "   - Markdown syntax: http://nestacms.com/docs/creating-content/markdown-cheat-sheet\n",
    "\n",
    "#### Resources\n",
    "\n",
    "+ Information and data sources: http://www.amstat.org/publications/jse/datasets/normtemp.txt, http://www.amstat.org/publications/jse/jse_data_archive.htm\n",
    "+ Markdown syntax: http://nestacms.com/docs/creating-content/markdown-cheat-sheet\n",
    "\n",
    "****\n",
    "</div>"
   ]
  },
  {
   "cell_type": "code",
   "execution_count": 27,
   "metadata": {
    "collapsed": true
   },
   "outputs": [],
   "source": [
    "# Your work here:\n",
    "\n",
    "#Importing the necessary visualization and statistical packages.\n",
    "import pandas as pd\n",
    "import numpy as np\n",
    "import seaborn as sns\n",
    "import matplotlib.pyplot as plt\n",
    "from scipy.stats import norm\n",
    "from scipy import stats\n",
    "import statistics\n",
    "import pylab\n",
    "import math\n",
    "\n",
    "df = pd.read_csv('data/human_body_temperature.csv')"
   ]
  },
  {
   "cell_type": "markdown",
   "metadata": {},
   "source": [
    "### Question 1:  Is the distribution of body temperatures normal?"
   ]
  },
  {
   "cell_type": "code",
   "execution_count": 2,
   "metadata": {},
   "outputs": [
    {
     "name": "stdout",
     "output_type": "stream",
     "text": [
      "(130, 3)\n",
      "This dataset has 130 observations.\n",
      "       temperature  heart_rate\n",
      "count   130.000000  130.000000\n",
      "mean     98.249231   73.761538\n",
      "std       0.733183    7.062077\n",
      "min      96.300000   57.000000\n",
      "25%      97.800000   69.000000\n",
      "50%      98.300000   74.000000\n",
      "75%      98.700000   79.000000\n",
      "max     100.800000   89.000000\n"
     ]
    },
    {
     "data": {
      "text/html": [
       "<div>\n",
       "<style>\n",
       "    .dataframe thead tr:only-child th {\n",
       "        text-align: right;\n",
       "    }\n",
       "\n",
       "    .dataframe thead th {\n",
       "        text-align: left;\n",
       "    }\n",
       "\n",
       "    .dataframe tbody tr th {\n",
       "        vertical-align: top;\n",
       "    }\n",
       "</style>\n",
       "<table border=\"1\" class=\"dataframe\">\n",
       "  <thead>\n",
       "    <tr style=\"text-align: right;\">\n",
       "      <th></th>\n",
       "      <th>temperature</th>\n",
       "      <th>gender</th>\n",
       "      <th>heart_rate</th>\n",
       "    </tr>\n",
       "  </thead>\n",
       "  <tbody>\n",
       "    <tr>\n",
       "      <th>0</th>\n",
       "      <td>99.3</td>\n",
       "      <td>F</td>\n",
       "      <td>68.0</td>\n",
       "    </tr>\n",
       "    <tr>\n",
       "      <th>1</th>\n",
       "      <td>98.4</td>\n",
       "      <td>F</td>\n",
       "      <td>81.0</td>\n",
       "    </tr>\n",
       "    <tr>\n",
       "      <th>2</th>\n",
       "      <td>97.8</td>\n",
       "      <td>M</td>\n",
       "      <td>73.0</td>\n",
       "    </tr>\n",
       "    <tr>\n",
       "      <th>3</th>\n",
       "      <td>99.2</td>\n",
       "      <td>F</td>\n",
       "      <td>66.0</td>\n",
       "    </tr>\n",
       "    <tr>\n",
       "      <th>4</th>\n",
       "      <td>98.0</td>\n",
       "      <td>F</td>\n",
       "      <td>73.0</td>\n",
       "    </tr>\n",
       "  </tbody>\n",
       "</table>\n",
       "</div>"
      ],
      "text/plain": [
       "   temperature gender  heart_rate\n",
       "0         99.3      F        68.0\n",
       "1         98.4      F        81.0\n",
       "2         97.8      M        73.0\n",
       "3         99.2      F        66.0\n",
       "4         98.0      F        73.0"
      ]
     },
     "execution_count": 2,
     "metadata": {},
     "output_type": "execute_result"
    }
   ],
   "source": [
    "#Explorting the dataframe\n",
    "print(df.shape)\n",
    "print('This dataset has ' + str(len(df.temperature)) + ' observations.')\n",
    "\n",
    "print(df.describe())\n",
    "df.head()"
   ]
  },
  {
   "cell_type": "code",
   "execution_count": 3,
   "metadata": {},
   "outputs": [
    {
     "data": {
      "image/png": "[encoded data removed]",
      "text/plain": [
       "<matplotlib.figure.Figure at 0x10e7e9208>"
      ]
     },
     "metadata": {},
     "output_type": "display_data"
    }
   ],
   "source": [
    "temperature = df.temperature\n",
    "heart_rate = df.heart_rate\n",
    "\n",
    "#Visualizing the temperature distribution\n",
    "sns.distplot(temperature, color='B' ,kde=False)\n",
    "plt.title('Histogram of Human Temperature')\n",
    "plt.xlabel('Temperature')\n",
    "plt.ylabel('Count')\n",
    "plt.show()"
   ]
  },
  {
   "cell_type": "code",
   "execution_count": 4,
   "metadata": {},
   "outputs": [
    {
     "data": {
      "image/png": "[encoded data removed]",
      "text/plain": [
       "<matplotlib.figure.Figure at 0x10e7e9198>"
      ]
     },
     "metadata": {},
     "output_type": "display_data"
    }
   ],
   "source": [
    "#Overlaying a kernel density estimate (KDE) to the temperature histogram\n",
    "sns.distplot(temperature, color='B', kde=True, label='Temperature distribution')\n",
    "plt.title('Distribution of Temperature Data')\n",
    "plt.xlabel('Temperature')\n",
    "plt.ylabel('Count')\n",
    "plt.legend(loc=1)\n",
    "plt.show()"
   ]
  },
  {
   "cell_type": "code",
   "execution_count": 5,
   "metadata": {},
   "outputs": [
    {
     "name": "stdout",
     "output_type": "stream",
     "text": [
      "Temperature Mean = 98.24923076923078\n",
      "Temperature Median = 98.3\n",
      "Temperature Mode = 98.0\n"
     ]
    }
   ],
   "source": [
    "print('Temperature Mean = ' + str(temperature.mean()))\n",
    "print('Temperature Median = ' + str(temperature.median()))\n",
    "print('Temperature Mode = ' + str(statistics.mode(temperature)))"
   ]
  },
  {
   "cell_type": "code",
   "execution_count": 6,
   "metadata": {},
   "outputs": [
    {
     "data": {
      "image/png": "[encoded data removed]",
      "text/plain": [
       "<matplotlib.figure.Figure at 0x103b33c88>"
      ]
     },
     "metadata": {},
     "output_type": "display_data"
    }
   ],
   "source": [
    "#QQ plot to determine the distribution of the data.\n",
    "stats.probplot(temperature, dist=\"norm\", plot=pylab)\n",
    "pylab.title(\"Normal Q-Q Plot\")\n",
    "pylab.ylabel(\"Sample quantiles\")\n",
    "pylab.show()"
   ]
  },
  {
   "cell_type": "code",
   "execution_count": 7,
   "metadata": {},
   "outputs": [
    {
     "data": {
      "text/plain": [
       "NormaltestResult(statistic=2.7038014333192031, pvalue=0.2587479863488254)"
      ]
     },
     "execution_count": 7,
     "metadata": {},
     "output_type": "execute_result"
    }
   ],
   "source": [
    "#Test to determine if temperature is a normal distribution.\n",
    "stats.normaltest(temperature)"
   ]
  },
  {
   "cell_type": "markdown",
   "metadata": {},
   "source": [
    "**Question 1 Response:**  Visualization of the temperature variable indicates that the distribution is largely normal.  The mean, median, and mode are in close proximity to each other indicating a normal distribution. The execution of an normalcy test returns a p-value of 0.259 which is considered high (p > 0.05) confirms that the temperature variable is indeed a normal distribution."
   ]
  },
  {
   "cell_type": "markdown",
   "metadata": {},
   "source": [
    "### Question 2:  Is the sample size large?  Are the observations independent?"
   ]
  },
  {
   "cell_type": "code",
   "execution_count": 8,
   "metadata": {
    "scrolled": true
   },
   "outputs": [
    {
     "name": "stdout",
     "output_type": "stream",
     "text": [
      "[[ 1.         0.2536564]\n",
      " [ 0.2536564  1.       ]]\n"
     ]
    }
   ],
   "source": [
    "#Execution of a Pearson Correlation coefficient analysis\n",
    "print(np.corrcoef(temperature, heart_rate))"
   ]
  },
  {
   "cell_type": "markdown",
   "metadata": {},
   "source": [
    "**Question 2 Response:**\n",
    "\n",
    "A normally distributed sample size of [n ≥ 30](https://onlinecourses.science.psu.edu/stat500/book/export/html/25) is considered a good rule of thumb when using the [Central Limit Theorem](https://www.statisticalengineering.com/central_limit_theorem.htm) for data analysis.  Because the dataset consists of 130 observations, this is an adequate sample size.\n",
    "\n",
    "I conducted a statistical test to measure whether the two variables, heart_rate and temperature are independent.  The Pearson correlation coefficient analysis yieled that a weak correlation of 0.253.  Because the Pearson correlation coefficient is very close to zero, it indicates that the variables heart_rate and temperature are largely independent of each other.  However, because the samples were taken from different individuals each meaurement bears no significant impact on the other, therefore heart_rate and temperature observations can be considered independent. \n"
   ]
  },
  {
   "cell_type": "markdown",
   "metadata": {},
   "source": [
    "### Question 3:  Is the true population mean really 98.6 degrees F? \n",
    "    - Would you use a one-sample or two-sample test? Why?\n",
    "    - In this situation, is it appropriate to use the t or z statistic?\n",
    "    - Now try using the other test. How is the result be different? Why? "
   ]
  },
  {
   "cell_type": "markdown",
   "metadata": {
    "collapsed": true
   },
   "source": [
    "#### Question 3: Response\n",
    "\n",
    "The mean temperature of the sample population is approximately 98.25$^{\\circ}$F, a lower value which contradicts Carl Wunderlich's 120-year-old standard of 98.6$^{\\circ}$F.  A one-sample test is more appropriate for this analysis because the data suggests that the true population mean may be lower than 98.6$^{\\circ}$F.  Because we know the standard deviation of our sample population is 0.733183 and our sample size is n > 30, a z-test is also appropriate.  \n",
    "\n",
    "#### One-sample Z-Test Hypothesis\n",
    "    \n",
    " Defining the null and alternative hypothesis:  \n",
    "$H_{0}$ =  The true population mean ($\\mu$) is 98.6$^{\\circ}$F  \n",
    "$H_{a}$ =  The true population mean ($\\mu$) is less than 98.6$^{\\circ}$F\n",
    "\n",
    "\n",
    " Significance level ($\\alpha$) and Confidence Interval (CI):  \n",
    "$\\alpha$ = 0.05  \n",
    "CI = 0.95\n"
   ]
  },
  {
   "cell_type": "code",
   "execution_count": 9,
   "metadata": {},
   "outputs": [
    {
     "name": "stdout",
     "output_type": "stream",
     "text": [
      "The critical Z-Score value for a 95% Confidence Interval is ± 1.96\n"
     ]
    }
   ],
   "source": [
    "print('The critical Z-Score value for a 95% Confidence Interval is ± ' + str(round(stats.norm.ppf(0.975),2)))"
   ]
  },
  {
   "cell_type": "markdown",
   "metadata": {},
   "source": [
    "Decision rule:  \n",
    "If the z-statistic is < -1.96 or > 1.96, the null hypothesis ($H_{0}$) is rejected."
   ]
  },
  {
   "cell_type": "code",
   "execution_count": 57,
   "metadata": {},
   "outputs": [
    {
     "name": "stdout",
     "output_type": "stream",
     "text": [
      "Z statistic: -5.45\n",
      "P-value: 2.41063204156e-07\n"
     ]
    }
   ],
   "source": [
    "# Calculation of the Z-Statistic \n",
    "x = df.temperature.mean()\n",
    "mu = 98.6\n",
    "std = df.temperature.std()\n",
    "n = len(df)\n",
    "\n",
    "z = (x - mu)/(std / math.sqrt(n))\n",
    "print('Z statistic:', round(z,2))\n",
    "\n",
    "# CALCULATE P VALUE\n",
    "p = stats.t.sf(np.abs(z), n-1)*2 \n",
    "print('P-value:', p)"
   ]
  },
  {
   "cell_type": "markdown",
   "metadata": {},
   "source": [
    "#### One-sample t-Test Hypothesis\n",
    "    \n",
    " Defining the null and alternative hypothesis  \n",
    "$H_{0}$ =  The true population mean ($\\mu$) is 98.6$^{\\circ}$F  \n",
    "$H_{a}$ =  The true population mean ($\\mu$) is less than 98.6$^{\\circ}$F\n",
    "\n",
    "\n",
    " Significance level (($\\alpha$) and Confidence Interval (CI)  \n",
    "$\\alpha$ = 0.05  \n",
    "CI = 0.95\n",
    "\n",
    " Degrees of freedom (n-1) = 129 "
   ]
  },
  {
   "cell_type": "code",
   "execution_count": 11,
   "metadata": {},
   "outputs": [
    {
     "name": "stdout",
     "output_type": "stream",
     "text": [
      "The cricial T-value for a 95% Confidence Interval is ± 1.9784\n"
     ]
    }
   ],
   "source": [
    "print('The cricial T-value for a 95% Confidence Interval is ± ' + str(round(stats.t.ppf(1-0.025, 130),4)))"
   ]
  },
  {
   "cell_type": "code",
   "execution_count": 13,
   "metadata": {},
   "outputs": [
    {
     "name": "stdout",
     "output_type": "stream",
     "text": [
      "T statistic: -5.454823292364079\n",
      "P value: 2.41063204156e-07\n"
     ]
    }
   ],
   "source": [
    "# CALCULATING THE T STATISTIC\n",
    "x = df.temperature.mean()\n",
    "mu = 98.6\n",
    "std = df.temperature.std()\n",
    "n = len(df)\n",
    "\n",
    "t = (x - mu)/(std / math.sqrt(n))\n",
    "print('T statistic:', t)\n",
    "\n",
    "# CALCULATING THE P VALUE\n",
    "p = stats.t.sf(np.abs(t), n-1)*2 \n",
    "print('P value:', p)\n"
   ]
  },
  {
   "cell_type": "markdown",
   "metadata": {},
   "source": [
    "#### Results:\n",
    "The calculated Z-statistic of -5.45 is less that the z-statistics thereshold of -1.96, therefore we can reject the null hypothesis and conclude that 98.6$^{\\circ}$F is not the true mean temperature.  Additionally, the calculated T-Statistic of -5.45 is less than the t-statistic threshold of -1.9784, we can reject the null hypothesis and also conclude that 98.6$^{\\circ}$F is not the true mean temperature. "
   ]
  },
  {
   "cell_type": "markdown",
   "metadata": {},
   "source": [
    "### 4.  At what temperature should we consider someone's temperature to be \"abnormal\"?  "
   ]
  },
  {
   "cell_type": "markdown",
   "metadata": {},
   "source": [
    "#### Question 4 Response:"
   ]
  },
  {
   "cell_type": "code",
   "execution_count": 68,
   "metadata": {},
   "outputs": [
    {
     "name": "stdout",
     "output_type": "stream",
     "text": [
      "Critical Z-Value:  1.96\n",
      "Margin of Error (moe): 0.126034341049\n",
      "Confidence Interval: (98.123196428181657, 98.375265110279898)\n"
     ]
    }
   ],
   "source": [
    "print('Critical Z-Value: ', round(stats.norm.ppf(0.975), 2))\n",
    "\n",
    "# CALCULATING THE MARGIN OF ERROR\n",
    "std = df.temperature.std()\n",
    "n = len(df.temperature)\n",
    "moe = stats.norm.ppf(0.975) * (std / np.sqrt(n))\n",
    "print('Margin of Error (moe):',moe)\n",
    "\n",
    "# CALCULATE CONFIDENCE INTERVAL\n",
    "mean = df['temperature'].mean()\n",
    "ci = norm.interval(0.95, x, stats.sem(df.temperature))\n",
    "print('Confidence Interval:', ci)\n"
   ]
  },
  {
   "cell_type": "markdown",
   "metadata": {},
   "source": [
    "From question 3 we obtained our Z-value threshold of 1.96, indicating that temperature whose z-score is above 1.96 or below -1.96 can be considered abnormal.  Using this as our basis, we are 95% confident that any temperature above 98.375$^{\\circ}$F  or below 98.123$^{\\circ}$F  can be considered an abnormal temperature."
   ]
  },
  {
   "cell_type": "markdown",
   "metadata": {},
   "source": [
    "### Question 5: Is there a significant difference between males and females in normal temperature?\n",
    "\n",
    "    What test did you use and why?\n",
    "    Write a story with your conclusion in the context of the original problem. "
   ]
  },
  {
   "cell_type": "code",
   "execution_count": 69,
   "metadata": {},
   "outputs": [
    {
     "name": "stdout",
     "output_type": "stream",
     "text": [
      "There are 65 males and 65 females\n"
     ]
    }
   ],
   "source": [
    "#Separating the genders\n",
    "males = df[df.gender == 'M']\n",
    "females = df[df.gender == 'F']\n",
    "\n",
    "print('There are ' + str(len(males)) + ' males' + ' and ' + str(len(females)) + ' females')"
   ]
  },
  {
   "cell_type": "code",
   "execution_count": 67,
   "metadata": {},
   "outputs": [
    {
     "name": "stdout",
     "output_type": "stream",
     "text": [
      "Mean Normal Temperature (male): 98.1046153846154\n",
      "Mean Normal Temperature (female): 98.39384615384613\n",
      "Difference of means: 0.289230769230727\n"
     ]
    }
   ],
   "source": [
    "#Calculating the mean, variance and standard deviation foe each gender\n",
    "m_mean = males.temperature.mean()\n",
    "m_std = males.temperature.std()\n",
    "m_var = males.temperature.std() ** 2\n",
    "f_mean = females.temperature.mean()\n",
    "f_std = females.temperature.std()\n",
    "f_var = females.temperature.std() ** 2\n",
    "\n",
    "print('Mean Normal Temperature (male): ' + str(m_mean))\n",
    "print('Mean Normal Temperature (female): ' + str(f_mean))\n",
    "print('Difference of means: ' + str(f_mean - m_mean))"
   ]
  },
  {
   "cell_type": "code",
   "execution_count": 47,
   "metadata": {},
   "outputs": [
    {
     "name": "stdout",
     "output_type": "stream",
     "text": [
      "Temperature Standard Deviation (male): 0.6987557623265908\n",
      "Temperature Standard Deviation (female):0.7434877527313665\n"
     ]
    }
   ],
   "source": [
    "print('Temperature Standard Deviation (male): ' + str(m_std))\n",
    "print('Temperature Standard Deviation (female):' + str(f_std))\n"
   ]
  },
  {
   "cell_type": "code",
   "execution_count": 50,
   "metadata": {},
   "outputs": [
    {
     "name": "stdout",
     "output_type": "stream",
     "text": [
      "Temperature Variance (male): 0.488259615384615\n",
      "Temperature Variance (female):0.5527740384615375\n"
     ]
    }
   ],
   "source": [
    "print('Temperature Variance (male): ' + str(m_var))\n",
    "print('Temperature Variance (female):' + str(f_var))"
   ]
  },
  {
   "cell_type": "markdown",
   "metadata": {},
   "source": [
    "#### Question 5 Response:  \n",
    "\n",
    "For this analysis a **two-sample test** was utilized because 1) we are testing two sample populations which have independent means and 2) there is no indication as to whether a positive or negative normal temperature difference exists.  Additionally because the standard deviation for both samples is known and the sample sizes are of both samples is n > 30,  a **Z-test** is also appropriate.\n",
    "\n",
    " For this analysis the null hypothesis and alternative hypothesis are defined below:   \n",
    "$H_{0}$:  male normal temperature = female normal temperature   \n",
    "$H_{a}$:  male normal temperature ≠ female normal temperature\n",
    "\n",
    " Significance level ($\\alpha$) and Confidence Interval (CI):  \n",
    "$\\alpha$ = 0.05  \n",
    "CI = 0.95\n",
    "\n",
    "In question 3 it was determined that the critical Z-Score value for a 95% Confidence Interval is ± 1.96.  Therefore, if the Z-statistic is < -1.96 or > 1.96, the null hypothesis ($H_{0}$) will be rejected."
   ]
  },
  {
   "cell_type": "code",
   "execution_count": 70,
   "metadata": {},
   "outputs": [
    {
     "name": "stdout",
     "output_type": "stream",
     "text": [
      "Z-statistic: 2.285434538165274\n",
      "P value: 0.0239190045195\n"
     ]
    }
   ],
   "source": [
    "z_stat = (f_mean - m_mean) / math.sqrt((f_var/len(females)) + (m_var/len(males)))\n",
    "p_val = stats.t.sf(np.abs(z_stat), n-1)*2 # two-sided pvalue\n",
    "\n",
    "print('Z-statistic: ' + str(z_stat))\n",
    "print('P value:', p_val) "
   ]
  },
  {
   "cell_type": "markdown",
   "metadata": {},
   "source": [
    "The two-sample test analysis showed a z-statistic of approximately 2.285 which is above the critical z-score value of 1.96, additionally the calculated p-value of 0.0239 is below our alpha value of 0.05.  Based on these findings we can reject the null hypothesis and conclude that the mean temperature difference of 0.289$^{\\circ}$F between males and females is statistically significant."
   ]
  }
 ],
 "metadata": {
  "kernelspec": {
   "display_name": "Python 3",
   "language": "python",
   "name": "python3"
  },
  "language_info": {
   "codemirror_mode": {
    "name": "ipython",
    "version": 3
   },
   "file_extension": ".py",
   "mimetype": "text/x-python",
   "name": "python",
   "nbconvert_exporter": "python",
   "pygments_lexer": "ipython3",
   "version": "3.6.1"
  }
 },
 "nbformat": 4,
 "nbformat_minor": 1
}
